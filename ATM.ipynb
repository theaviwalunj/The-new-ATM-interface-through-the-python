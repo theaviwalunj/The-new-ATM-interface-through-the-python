{
 "cells": [
  {
   "cell_type": "code",
   "execution_count": 3,
   "id": "3fd82129-142f-4ffa-87da-77c121988998",
   "metadata": {},
   "outputs": [],
   "source": [
    "class ATM:\n",
    "    def __init__(self):\n",
    "        self.pin=0\n",
    "        self.balance =0\n",
    "        #self.menu()\n",
    "    def menu(self):\n",
    "        choice=input(\"\"\"\n",
    "        1. create pin\n",
    "        2. change pin\n",
    "        3. deposite \n",
    "        4. withdraw \n",
    "        5. check balance \n",
    "        6. Exit\"\"\")\n",
    "        if choice == \"1\" :\n",
    "            self.create_pin()\n",
    "            self.menu()\n",
    "        elif choice == \"2\" :\n",
    "            self.change_pin()\n",
    "            self.menu()\n",
    "        elif choice == \"3\" :\n",
    "            self.deposite()\n",
    "            self.menu()\n",
    "        elif choice == \"4\" :\n",
    "            self.withdraw()\n",
    "            self.menu()\n",
    "        elif choice == \"5\" :\n",
    "            self.check_balance()\n",
    "            self.menu()\n",
    "        elif choice == \"6\" :\n",
    "            print(\"Thank You\")\n",
    "        else:\n",
    "            print(\"Invalid choice\")\n",
    "    def create_pin (self):\n",
    "        user_pin=int(input(\"Enter your old pin\"))\n",
    "        if user_pin==self.pin:\n",
    "            self.pin=int(input(\"Enter your new pin\"))\n",
    "            print(\"pin created successfully\")\n",
    "        else:\n",
    "            print(\"your old pin is wrong\")\n",
    "    def deposite(self):\n",
    "        user_pin=int(input(\"Enter your pin\"))\n",
    "        if user_pin==self.pin:\n",
    "            Amount=int(input(\"Enter your desposite amount\"))\n",
    "            self.balance += Amount\n",
    "            print(\"Your new balance is\",self.balance)\n",
    "        else:\n",
    "            print(\"wrong pin\")\n",
    "    def withdraw (self):\n",
    "        user_pin=int(input(\"Enter your pin\"))\n",
    "        if user_pin==self.pin:\n",
    "            if self.balance >=0:\n",
    "                amount=int(input(\"Enter your withdraw amount\"))\n",
    "                self.balance -= amount # Changed == to -= for balance deduction\n",
    "                print(amount,\"is withdraw...now your new balance is\",self.balance)\n",
    "            else: # Corrected the indentation for the else block\n",
    "                print(\"Less Balance\")\n",
    "        else: # Corrected the indentation for the else block\n",
    "            print(\"wrong pin\")\n",
    "    def check_balance (self):\n",
    "        user_pin =int(input(\"Enter your pin\"))\n",
    "        if user_pin ==self.pin:\n",
    "            print(\"your balance is\",self.balance)\n",
    "        else:\n",
    "            print(\"wrong pin\")"
   ]
  },
  {
   "cell_type": "code",
   "execution_count": 4,
   "id": "48a85298-fcac-45a6-ba23-79e7476ab7b8",
   "metadata": {},
   "outputs": [
    {
     "name": "stdin",
     "output_type": "stream",
     "text": [
      "\n",
      "        1. create pin\n",
      "        2. change pin\n",
      "        3. deposite \n",
      "        4. withdraw \n",
      "        5. check balance \n",
      "        6. Exit 1\n",
      "Enter your old pin 0\n",
      "Enter your new pin 0402\n"
     ]
    },
    {
     "name": "stdout",
     "output_type": "stream",
     "text": [
      "pin created successfully\n"
     ]
    },
    {
     "name": "stdin",
     "output_type": "stream",
     "text": [
      "\n",
      "        1. create pin\n",
      "        2. change pin\n",
      "        3. deposite \n",
      "        4. withdraw \n",
      "        5. check balance \n",
      "        6. Exit 3\n",
      "Enter your pin 0402\n",
      "Enter your desposite amount 4500\n"
     ]
    },
    {
     "name": "stdout",
     "output_type": "stream",
     "text": [
      "Your new balance is 4500\n"
     ]
    },
    {
     "name": "stdin",
     "output_type": "stream",
     "text": [
      "\n",
      "        1. create pin\n",
      "        2. change pin\n",
      "        3. deposite \n",
      "        4. withdraw \n",
      "        5. check balance \n",
      "        6. Exit 5\n",
      "Enter your pin 0402\n"
     ]
    },
    {
     "name": "stdout",
     "output_type": "stream",
     "text": [
      "your balance is 4500\n"
     ]
    },
    {
     "name": "stdin",
     "output_type": "stream",
     "text": [
      "\n",
      "        1. create pin\n",
      "        2. change pin\n",
      "        3. deposite \n",
      "        4. withdraw \n",
      "        5. check balance \n",
      "        6. Exit 4\n",
      "Enter your pin 0402\n",
      "Enter your withdraw amount 1200000\n"
     ]
    },
    {
     "name": "stdout",
     "output_type": "stream",
     "text": [
      "1200000 is withdraw...now your new balance is -1195500\n"
     ]
    },
    {
     "name": "stdin",
     "output_type": "stream",
     "text": [
      "\n",
      "        1. create pin\n",
      "        2. change pin\n",
      "        3. deposite \n",
      "        4. withdraw \n",
      "        5. check balance \n",
      "        6. Exit 3\n",
      "Enter your pin 0402\n",
      "Enter your desposite amount 98000000000\n"
     ]
    },
    {
     "name": "stdout",
     "output_type": "stream",
     "text": [
      "Your new balance is 97998804500\n"
     ]
    },
    {
     "name": "stdin",
     "output_type": "stream",
     "text": [
      "\n",
      "        1. create pin\n",
      "        2. change pin\n",
      "        3. deposite \n",
      "        4. withdraw \n",
      "        5. check balance \n",
      "        6. Exit 5\n",
      "Enter your pin 0402\n"
     ]
    },
    {
     "name": "stdout",
     "output_type": "stream",
     "text": [
      "your balance is 97998804500\n"
     ]
    },
    {
     "name": "stdin",
     "output_type": "stream",
     "text": [
      "\n",
      "        1. create pin\n",
      "        2. change pin\n",
      "        3. deposite \n",
      "        4. withdraw \n",
      "        5. check balance \n",
      "        6. Exit 6\n"
     ]
    },
    {
     "name": "stdout",
     "output_type": "stream",
     "text": [
      "Thank You\n"
     ]
    }
   ],
   "source": [
    "a= ATM()\n",
    "a.menu()"
   ]
  },
  {
   "cell_type": "code",
   "execution_count": null,
   "id": "56280358-9355-4057-8a1b-27ca277e4135",
   "metadata": {},
   "outputs": [],
   "source": []
  },
  {
   "cell_type": "code",
   "execution_count": null,
   "id": "93654ca2-8094-4dfb-ba61-f4c114c03b70",
   "metadata": {},
   "outputs": [],
   "source": []
  },
  {
   "cell_type": "code",
   "execution_count": null,
   "id": "adb2aa6d-d2ab-4f46-ab28-6a0845690ecb",
   "metadata": {},
   "outputs": [],
   "source": []
  },
  {
   "cell_type": "code",
   "execution_count": null,
   "id": "2678f2d5-8e1b-4b24-8c07-4cb9090aebd4",
   "metadata": {},
   "outputs": [],
   "source": []
  },
  {
   "cell_type": "code",
   "execution_count": null,
   "id": "969f2b9d-a6e4-411b-b6e7-933dbab2b4cd",
   "metadata": {},
   "outputs": [],
   "source": []
  },
  {
   "cell_type": "code",
   "execution_count": null,
   "id": "4e289d1f-bc1f-4d30-9ff1-27b91c75eda3",
   "metadata": {},
   "outputs": [],
   "source": []
  },
  {
   "cell_type": "code",
   "execution_count": null,
   "id": "d57303ff-b57c-4f94-ae2f-8a8afbc9e564",
   "metadata": {},
   "outputs": [],
   "source": []
  },
  {
   "cell_type": "code",
   "execution_count": null,
   "id": "78e4a7c2-779d-4846-b32e-5d137ea9aaeb",
   "metadata": {},
   "outputs": [],
   "source": []
  },
  {
   "cell_type": "code",
   "execution_count": null,
   "id": "6884183d-56ad-4d12-a262-e0f87a6e292f",
   "metadata": {},
   "outputs": [],
   "source": []
  },
  {
   "cell_type": "code",
   "execution_count": null,
   "id": "d93faed9-ebee-44c8-b611-251416331d18",
   "metadata": {},
   "outputs": [],
   "source": []
  },
  {
   "cell_type": "code",
   "execution_count": null,
   "id": "fb5e1888-b745-4cda-9c2b-aafca3cdf347",
   "metadata": {},
   "outputs": [],
   "source": []
  },
  {
   "cell_type": "code",
   "execution_count": null,
   "id": "088c5028-cebb-4dda-9aa0-442871ac5d38",
   "metadata": {},
   "outputs": [],
   "source": []
  },
  {
   "cell_type": "code",
   "execution_count": null,
   "id": "8ccf6f55-76d8-4e80-97bf-52000195fb26",
   "metadata": {},
   "outputs": [],
   "source": []
  },
  {
   "cell_type": "code",
   "execution_count": null,
   "id": "c07d795b-3153-4e4b-af65-d4b6463be567",
   "metadata": {},
   "outputs": [],
   "source": []
  },
  {
   "cell_type": "code",
   "execution_count": null,
   "id": "6923135a-f2fc-4564-90c0-66fcb31fdf9f",
   "metadata": {},
   "outputs": [],
   "source": []
  },
  {
   "cell_type": "code",
   "execution_count": null,
   "id": "e6adf044-3266-4da5-a5cf-9abe95f24d16",
   "metadata": {},
   "outputs": [],
   "source": []
  },
  {
   "cell_type": "code",
   "execution_count": null,
   "id": "1c736e08-8d48-4b8e-86d0-7e42617f9542",
   "metadata": {},
   "outputs": [],
   "source": []
  },
  {
   "cell_type": "code",
   "execution_count": null,
   "id": "4fe9822c-9524-4ffe-a36e-983ea9e2f274",
   "metadata": {},
   "outputs": [],
   "source": []
  },
  {
   "cell_type": "code",
   "execution_count": null,
   "id": "223c8153-c2e2-40be-93a5-a23e3ed8b714",
   "metadata": {},
   "outputs": [],
   "source": []
  },
  {
   "cell_type": "code",
   "execution_count": null,
   "id": "bded3135-6563-4234-97e8-817106da02a4",
   "metadata": {},
   "outputs": [],
   "source": []
  },
  {
   "cell_type": "code",
   "execution_count": null,
   "id": "05914bdf-d7cc-4b45-bad5-33041541aa97",
   "metadata": {},
   "outputs": [],
   "source": []
  },
  {
   "cell_type": "code",
   "execution_count": null,
   "id": "79298f3a-484d-4d0c-9a5d-b1ccb222855c",
   "metadata": {},
   "outputs": [],
   "source": []
  },
  {
   "cell_type": "code",
   "execution_count": null,
   "id": "ee2b6c54-2b9b-4b66-b235-3cff5c36bf14",
   "metadata": {},
   "outputs": [],
   "source": []
  }
 ],
 "metadata": {
  "kernelspec": {
   "display_name": "Python 3 (ipykernel)",
   "language": "python",
   "name": "python3"
  },
  "language_info": {
   "codemirror_mode": {
    "name": "ipython",
    "version": 3
   },
   "file_extension": ".py",
   "mimetype": "text/x-python",
   "name": "python",
   "nbconvert_exporter": "python",
   "pygments_lexer": "ipython3",
   "version": "3.12.4"
  }
 },
 "nbformat": 4,
 "nbformat_minor": 5
}
